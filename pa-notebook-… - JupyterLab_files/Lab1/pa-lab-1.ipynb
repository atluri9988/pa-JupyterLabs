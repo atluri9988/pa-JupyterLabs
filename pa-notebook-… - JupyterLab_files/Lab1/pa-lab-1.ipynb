{
 "cells": [
  {
   "cell_type": "code",
   "execution_count": 3,
   "id": "1ac633e6-03a3-41cc-8fa4-bfe86678a262",
   "metadata": {},
   "outputs": [],
   "source": [
    "string = 'Hello'"
   ]
  },
  {
   "cell_type": "code",
   "execution_count": 4,
   "id": "278a16b0-4ae3-492f-aba3-079dd872ac49",
   "metadata": {},
   "outputs": [
    {
     "data": {
      "text/plain": [
       "'Hello'"
      ]
     },
     "execution_count": 4,
     "metadata": {},
     "output_type": "execute_result"
    }
   ],
   "source": [
    "string"
   ]
  },
  {
   "cell_type": "code",
   "execution_count": 5,
   "id": "994e18f6-f734-4311-93a2-30cb09737cf2",
   "metadata": {},
   "outputs": [],
   "source": [
    "var1 = 'Hello'"
   ]
  },
  {
   "cell_type": "code",
   "execution_count": 6,
   "id": "a00586ab-720f-4a1b-a322-284ef8c779fa",
   "metadata": {},
   "outputs": [
    {
     "data": {
      "text/plain": [
       "'Hello'"
      ]
     },
     "execution_count": 6,
     "metadata": {},
     "output_type": "execute_result"
    }
   ],
   "source": [
    "var1"
   ]
  },
  {
   "cell_type": "code",
   "execution_count": 28,
   "id": "0514b2e5-c929-4282-a076-cc4705a30863",
   "metadata": {},
   "outputs": [],
   "source": [
    "var2 = str(object=\"Hello\")"
   ]
  },
  {
   "cell_type": "code",
   "execution_count": 29,
   "id": "7a31f6c2-2712-4173-9bb4-e0f9c37da409",
   "metadata": {},
   "outputs": [
    {
     "data": {
      "text/plain": [
       "'Hello'"
      ]
     },
     "execution_count": 29,
     "metadata": {},
     "output_type": "execute_result"
    }
   ],
   "source": [
    "var2"
   ]
  },
  {
   "cell_type": "code",
   "execution_count": 30,
   "id": "83f31966-0b0b-4899-a8ba-4ce8bc415b4b",
   "metadata": {},
   "outputs": [
    {
     "data": {
      "text/plain": [
       "str"
      ]
     },
     "execution_count": 30,
     "metadata": {},
     "output_type": "execute_result"
    }
   ],
   "source": [
    "type(var2)"
   ]
  },
  {
   "cell_type": "code",
   "execution_count": 34,
   "id": "3b407437-069a-4793-acfb-c938d2a0934a",
   "metadata": {},
   "outputs": [],
   "source": [
    "from sys import getsizeof"
   ]
  },
  {
   "cell_type": "code",
   "execution_count": 35,
   "id": "45d38ff7-a0a1-417d-a63a-7c5fbb6fc013",
   "metadata": {},
   "outputs": [
    {
     "data": {
      "text/plain": [
       "54"
      ]
     },
     "execution_count": 35,
     "metadata": {},
     "output_type": "execute_result"
    }
   ],
   "source": [
    "getsizeof(var2)"
   ]
  },
  {
   "cell_type": "code",
   "execution_count": null,
   "id": "eae55fac-e559-428a-ab1a-c2f82d684b30",
   "metadata": {},
   "outputs": [],
   "source": []
  },
  {
   "cell_type": "code",
   "execution_count": 9,
   "id": "814c5b2a-c878-4bda-ae14-6539ef549142",
   "metadata": {},
   "outputs": [],
   "source": [
    "import pandas"
   ]
  },
  {
   "cell_type": "code",
   "execution_count": 10,
   "id": "6f829664-80a4-4b3f-bd6e-494171b2edfd",
   "metadata": {},
   "outputs": [
    {
     "name": "stdout",
     "output_type": "stream",
     "text": [
      "Help on built-in function count:\n",
      "\n",
      "count(...) method of builtins.str instance\n",
      "    S.count(sub[, start[, end]]) -> int\n",
      "    \n",
      "    Return the number of non-overlapping occurrences of substring sub in\n",
      "    string S[start:end].  Optional arguments start and end are\n",
      "    interpreted as in slice notation.\n",
      "\n"
     ]
    }
   ],
   "source": [
    "help(var1.count)"
   ]
  },
  {
   "cell_type": "code",
   "execution_count": 23,
   "id": "423d21ea-4a0e-4620-9899-975eab0c8197",
   "metadata": {},
   "outputs": [],
   "source": [
    "class BankAccount:\n",
    "\n",
    "    def __init__(self, initialBalance):\n",
    "        self.__balance = initialBalance\n",
    "\n",
    "    def get_balance(self):\n",
    "        print(self.__balance)\n",
    "        \n",
    "    def deposit_balance(self, addAmmount):\n",
    "        self.__balance += addAmmount\n",
    "\n",
    "    def withdraw_balance(self, withdrawAmmount):\n",
    "        self.__balance -= withdrawAmmount"
   ]
  },
  {
   "cell_type": "code",
   "execution_count": 24,
   "id": "943afed1-07d4-446a-89b5-cdddeb5523d2",
   "metadata": {},
   "outputs": [
    {
     "name": "stdout",
     "output_type": "stream",
     "text": [
      "1000\n",
      "1500\n",
      "600\n"
     ]
    }
   ],
   "source": [
    "pa_account = BankAccount(1000)\n",
    "\n",
    "pa_account.get_balance()\n",
    "\n",
    "pa_account.deposit_balance(500)\n",
    "\n",
    "pa_account.get_balance()\n",
    "\n",
    "pa_account.withdraw_balance(900)\n",
    "\n",
    "pa_account.get_balance()\n",
    "\n",
    "\n"
   ]
  },
  {
   "cell_type": "code",
   "execution_count": null,
   "id": "b9b7e1f6-464d-41df-aa48-c40cafcf3cb4",
   "metadata": {},
   "outputs": [],
   "source": []
  },
  {
   "cell_type": "code",
   "execution_count": null,
   "id": "76aa0fb8-6b91-4a20-99a0-e4bef18ac856",
   "metadata": {},
   "outputs": [],
   "source": []
  }
 ],
 "metadata": {
  "kernelspec": {
   "display_name": "Python 3 (ipykernel)",
   "language": "python",
   "name": "python3"
  },
  "language_info": {
   "codemirror_mode": {
    "name": "ipython",
    "version": 3
   },
   "file_extension": ".py",
   "mimetype": "text/x-python",
   "name": "python",
   "nbconvert_exporter": "python",
   "pygments_lexer": "ipython3",
   "version": "3.9.6"
  }
 },
 "nbformat": 4,
 "nbformat_minor": 5
}
